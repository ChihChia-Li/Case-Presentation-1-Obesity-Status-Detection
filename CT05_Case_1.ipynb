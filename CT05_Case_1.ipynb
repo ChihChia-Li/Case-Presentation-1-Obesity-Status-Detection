{
  "nbformat": 4,
  "nbformat_minor": 0,
  "metadata": {
    "colab": {
      "name": "CT05_Case_1.ipynb",
      "provenance": [],
      "collapsed_sections": []
    },
    "kernelspec": {
      "name": "python3",
      "display_name": "Python 3"
    },
    "language_info": {
      "name": "python"
    },
    "accelerator": "GPU"
  },
  "cells": [
    {
      "cell_type": "markdown",
      "metadata": {
        "id": "LkUH0D86lwuX"
      },
      "source": [
        "# Digital Medicine 2021 \n"
      ]
    },
    {
      "cell_type": "code",
      "metadata": {
        "colab": {
          "base_uri": "https://localhost:8080/"
        },
        "id": "-X5GuHkuviqL",
        "outputId": "b86b1d04-4ec7-4ca4-ff0e-e769339f18a8"
      },
      "source": [
        "import os\n",
        "import string\n",
        "from tqdm import tqdm\n",
        "import nltk\n",
        "nltk.download('stopwords')\n",
        "nltk.download('wordnet')\n",
        "nltk.download('punkt')\n",
        "nltk.download('averaged_perceptron_tagger')\n",
        "from nltk.stem import WordNetLemmatizer \n",
        "from nltk.corpus import stopwords, wordnet\n",
        "import nltk.stem\n",
        "import pandas as pd\n",
        "from collections import Counter\n",
        "\n",
        "def get_wordnet_pos(word):\n",
        "    \"\"\"Map POS tag to first character lemmatize() accepts\"\"\"\n",
        "    tag = nltk.pos_tag([word])[0][1][0].upper()\n",
        "    tag_dict = {\"J\": wordnet.ADJ,\n",
        "                \"N\": wordnet.NOUN,\n",
        "                \"V\": wordnet.VERB,\n",
        "                \"R\": wordnet.ADV}\n",
        "\n",
        "    return tag_dict.get(tag, wordnet.NOUN)\n",
        "\n",
        "\n",
        "\n",
        "def PreprocessData_w_Lemmatizer(dir_path, phase='train'):\n",
        "    allFileList = os.listdir(dir_path)\n",
        "    allFileList.sort(key=lambda x:x.rstrip('.txt').split('_')[-1])\n",
        "    contents = []\n",
        "    labels = []\n",
        "    text_idx = []\n",
        "    word_list = ['obesity', 'obestity', 'obese', 'obeseskin', 'panniculectomy', 'lose weight']\n",
        "\n",
        "        \n",
        "    remove = str.maketrans('', '', string.punctuation)\n",
        "    l = WordNetLemmatizer()\n",
        "    allFile = tqdm(allFileList)\n",
        "    for idx, file_name in enumerate(allFile):\n",
        "        label = file_name.split('_')[0]\n",
        "        file = open(os.path.join(dir_path, file_name), 'r')\n",
        "        content = file.read().lower()\n",
        "        content = content.translate(remove)\n",
        "        content = content.replace('\\n', ' ')\n",
        "        content = content.split(' ')\n",
        "        content = ' '.join([''.join(filter(str.isalpha, x)) for x in content])\n",
        "        content = [l.lemmatize(ws, get_wordnet_pos(ws)) for ws in nltk.word_tokenize(content)]\n",
        "        content = [w for w in content if not w in stopwords.words('english')]\n",
        "        content = ' '.join(content)\n",
        "        contents.append(content)\n",
        "\n",
        "        if phase != 'valid':\n",
        "            if label == 'U' or label == 'N':\n",
        "                labels.append(0)\n",
        "            else:\n",
        "                labels.append(1)\n",
        "        if phase == 'valid':    \n",
        "          for word in word_list:\n",
        "              if word in content:\n",
        "                  text_idx.append(file_name)\n",
        "        elif phase == 'test':\n",
        "          for word in word_list:\n",
        "              if word in content:\n",
        "                  text_idx.append(idx)\n",
        "\n",
        "    if phase != 'train':\n",
        "        return contents, labels, text_idx\n",
        "    else:\n",
        "        return contents, labels\n",
        "\n"
      ],
      "execution_count": null,
      "outputs": [
        {
          "output_type": "stream",
          "name": "stdout",
          "text": [
            "[nltk_data] Downloading package stopwords to /root/nltk_data...\n",
            "[nltk_data]   Package stopwords is already up-to-date!\n",
            "[nltk_data] Downloading package wordnet to /root/nltk_data...\n",
            "[nltk_data]   Package wordnet is already up-to-date!\n",
            "[nltk_data] Downloading package punkt to /root/nltk_data...\n",
            "[nltk_data]   Package punkt is already up-to-date!\n",
            "[nltk_data] Downloading package averaged_perceptron_tagger to\n",
            "[nltk_data]     /root/nltk_data...\n",
            "[nltk_data]   Package averaged_perceptron_tagger is already up-to-\n",
            "[nltk_data]       date!\n"
          ]
        }
      ]
    },
    {
      "cell_type": "markdown",
      "metadata": {
        "id": "45DoCGl1mJb9"
      },
      "source": [
        "## Load dataset"
      ]
    },
    {
      "cell_type": "code",
      "metadata": {
        "colab": {
          "base_uri": "https://localhost:8080/"
        },
        "id": "KWC4qUkZvw1m",
        "outputId": "25f6afdb-8b4e-4049-8ac6-ccfa2496bda7"
      },
      "source": [
        "train_dir_path = '/content/drive/MyDrive/數位醫學/Train_Textual'\n",
        "test_dir_path = '/content/drive/MyDrive/數位醫學/Test_Intuitive'\n",
        "valid_dir_path = '/content/drive/MyDrive/數位醫學/Validation'\n",
        "train_contents, train_labels = PreprocessData_w_Lemmatizer(train_dir_path, phase='train')\n",
        "test_contents, test_labels, text_idx = PreprocessData_w_Lemmatizer(test_dir_path, phase='test')\n",
        "val_contents, _, val_idx = PreprocessData_w_Lemmatizer(valid_dir_path, phase='valid')"
      ],
      "execution_count": null,
      "outputs": [
        {
          "output_type": "stream",
          "name": "stderr",
          "text": [
            "100%|██████████| 400/400 [02:12<00:00,  3.02it/s]\n",
            "100%|██████████| 400/400 [02:13<00:00,  3.01it/s]\n",
            "100%|██████████| 50/50 [00:16<00:00,  3.10it/s]\n"
          ]
        }
      ]
    },
    {
      "cell_type": "markdown",
      "metadata": {
        "id": "7ewg-UsSmO-v"
      },
      "source": [
        "## Tokenization"
      ]
    },
    {
      "cell_type": "code",
      "metadata": {
        "id": "PQkQxOl82rHd",
        "colab": {
          "base_uri": "https://localhost:8080/"
        },
        "outputId": "cd95235c-1a0c-463f-bf22-f05fbcb024f3"
      },
      "source": [
        "from keras.preprocessing.text import Tokenizer\n",
        "from keras.preprocessing.sequence import pad_sequences\n",
        "MAX_NB_WORDS = 20000\n",
        "MAX_SEQUENCE_LENGTH = 2000\n",
        "\n",
        "tokenizer = Tokenizer(num_words=MAX_NB_WORDS, char_level=False)\n",
        "tokenizer.fit_on_texts(train_contents)\n",
        "train_sequences = tokenizer.texts_to_sequences(train_contents)\n",
        "test_sequences = tokenizer.texts_to_sequences(test_contents)\n",
        "val_sequences = tokenizer.texts_to_sequences(val_contents)\n",
        "\n",
        "word_index = tokenizer.word_index\n",
        "print('Found %s unique tokens.' % len(word_index))\n",
        "\n",
        "train_data = pad_sequences(train_sequences, maxlen=MAX_SEQUENCE_LENGTH)\n",
        "test_data = pad_sequences(test_sequences, maxlen=MAX_SEQUENCE_LENGTH)\n",
        "val_data = pad_sequences(val_sequences, maxlen=MAX_SEQUENCE_LENGTH)\n",
        "\n",
        "print('Shape of training data tensor:', train_data.shape)\n",
        "print('Shape of testing data tensor:', test_data.shape)\n",
        "print('Shape of validation data tensor:', val_data.shape)"
      ],
      "execution_count": null,
      "outputs": [
        {
          "output_type": "stream",
          "name": "stdout",
          "text": [
            "Found 15955 unique tokens.\n",
            "Shape of training data tensor: (400, 2000)\n",
            "Shape of testing data tensor: (400, 2000)\n",
            "Shape of validation data tensor: (50, 2000)\n"
          ]
        }
      ]
    },
    {
      "cell_type": "markdown",
      "metadata": {
        "id": "RoNEjgUvmZRy"
      },
      "source": [
        "## Load pre-trained word embeddings (GloVe embeddings) "
      ]
    },
    {
      "cell_type": "code",
      "metadata": {
        "colab": {
          "base_uri": "https://localhost:8080/"
        },
        "id": "cQyKhmLRZLvO",
        "outputId": "b637223a-feec-4739-81b1-c78fd6b3035d"
      },
      "source": [
        "import numpy as np\n",
        "embeddings_index = {}\n",
        "f = open('glove.6B.100d.txt')\n",
        "for line in f:\n",
        "    values = line.split()\n",
        "    word = values[0]\n",
        "    coefs = np.asarray(values[1:], dtype='float32')\n",
        "    embeddings_index[word] = coefs\n",
        "f.close()\n",
        "\n",
        "\n",
        "print('Found %s word vectors.' % len(embeddings_index))"
      ],
      "execution_count": null,
      "outputs": [
        {
          "output_type": "stream",
          "name": "stdout",
          "text": [
            "Found 400000 word vectors.\n"
          ]
        }
      ]
    },
    {
      "cell_type": "code",
      "metadata": {
        "id": "z_KNgcViZUS5"
      },
      "source": [
        "EMBEDDING_DIM = 100\n",
        "embedding_matrix = np.zeros((len(word_index) + 1, EMBEDDING_DIM))\n",
        "for word, i in word_index.items():\n",
        "    embedding_vector = embeddings_index.get(word)\n",
        "    if embedding_vector is not None:\n",
        "        # words not found in embedding index will be all-zeros.\n",
        "        embedding_matrix[i] = embedding_vector"
      ],
      "execution_count": null,
      "outputs": []
    },
    {
      "cell_type": "markdown",
      "metadata": {
        "id": "FMRFlJaimk7X"
      },
      "source": [
        "## Word Embeddings"
      ]
    },
    {
      "cell_type": "code",
      "metadata": {
        "id": "zNCOC_17ZWtf"
      },
      "source": [
        "from keras.layers import Embedding\n",
        "embedding_layer = Embedding(len(word_index) + 1,\n",
        "                            EMBEDDING_DIM,\n",
        "                            weights=[embedding_matrix],\n",
        "                            input_length=MAX_SEQUENCE_LENGTH,\n",
        "                            trainable=False)"
      ],
      "execution_count": null,
      "outputs": []
    },
    {
      "cell_type": "markdown",
      "metadata": {
        "id": "vjkrXCaYmpq8"
      },
      "source": [
        "# Process labels of text files"
      ]
    },
    {
      "cell_type": "code",
      "metadata": {
        "id": "g2M2ISCDctXp"
      },
      "source": [
        "from keras.utils import np_utils \n",
        "transfer_train_labels = np_utils.to_categorical(np.asarray(train_labels), num_classes=2)\n",
        "transfer_test_labels = np_utils.to_categorical(np.asarray(test_labels), num_classes=2)"
      ],
      "execution_count": null,
      "outputs": []
    },
    {
      "cell_type": "markdown",
      "metadata": {
        "id": "le9oYRnqmwok"
      },
      "source": [
        "## Set up Bidirectional LSTM model"
      ]
    },
    {
      "cell_type": "code",
      "metadata": {
        "id": "9rv4twMsZeWM"
      },
      "source": [
        "import tensorflow as tf\n",
        "from keras.layers import Dense, Input, Flatten, Dropout, LSTM, GRU, Bidirectional, SimpleRNN, CuDNNLSTM, Activation, Conv2D, MaxPooling2D\n",
        "from keras.layers import Conv1D, MaxPooling1D, GlobalMaxPooling1D, SpatialDropout1D, GlobalAveragePooling1D, Concatenate, Reshape\n",
        "from keras.models import Model\n",
        "from keras.callbacks import ModelCheckpoint\n",
        "from keras.models import Sequential\n",
        "\n",
        "# Build bi-LSTM model\n",
        "model = Sequential()\n",
        "model.add(Embedding(MAX_NB_WORDS, 128, input_length=MAX_SEQUENCE_LENGTH))\n",
        "model.add(Bidirectional(LSTM(64)))\n",
        "model.add(Dropout(0.5))\n",
        "model.add(Dense(2, activation='sigmoid'))\n",
        "# Set up optimizer\n",
        "adam = tf.keras.optimizers.Adam(learning_rate=1e-3, beta_1=0.9, beta_2=0.999, epsilon=1e-08, decay=0.1)\n",
        "# Compile bi-LSTM model\n",
        "model.compile(loss='binary_crossentropy', optimizer=adam, metrics=['accuracy'])\n",
        "\n",
        "# Save checkpoint according to val accuracy\n",
        "filepath=\"weights.best.final.hdf5\"\n",
        "checkpoint = ModelCheckpoint(filepath, monitor='val_accuracy', verbose=1, save_best_only=True, mode='max')\n",
        "callbacks_list = [checkpoint]"
      ],
      "execution_count": null,
      "outputs": []
    },
    {
      "cell_type": "markdown",
      "metadata": {
        "id": "25KK9DjonSkK"
      },
      "source": [
        "## Start Training..."
      ]
    },
    {
      "cell_type": "code",
      "metadata": {
        "id": "-2LVHnXkluho"
      },
      "source": [
        "model.fit(train_data, transfer_train_labels, validation_data=(test_data, transfer_test_labels), epochs=50, batch_size=32, callbacks=callbacks_list, verbose=0)"
      ],
      "execution_count": null,
      "outputs": []
    },
    {
      "cell_type": "markdown",
      "metadata": {
        "id": "qTPbSfAHnYrz"
      },
      "source": [
        "## Predict testing text files on trained model and Show the accuracy"
      ]
    },
    {
      "cell_type": "code",
      "metadata": {
        "colab": {
          "base_uri": "https://localhost:8080/"
        },
        "id": "EafJIykkdmiU",
        "outputId": "44eb84c5-b816-48d4-c4b9-c36edf81a9c9"
      },
      "source": [
        "from sklearn.metrics import accuracy_score\n",
        "# load weights\n",
        "model.load_weights(\"weights.best.final.hdf5\")\n",
        "# evaluate the model\n",
        "prediction = model.predict(test_data)\n",
        "prediction = np.argmax(prediction, axis=1)\n",
        "prediction[text_idx] = 1\n",
        "acc = accuracy_score(test_labels, prediction)\n",
        "print('Accuracy on test data: %f' % (acc*100))    \n"
      ],
      "execution_count": null,
      "outputs": [
        {
          "output_type": "stream",
          "name": "stdout",
          "text": [
            "Accuracy on test data: 91.750000\n"
          ]
        }
      ]
    },
    {
      "cell_type": "markdown",
      "metadata": {
        "id": "Y1X5cklrnuWa"
      },
      "source": [
        "## Predict validation text files on trained model and Save output labels to the csv file"
      ]
    },
    {
      "cell_type": "code",
      "metadata": {
        "id": "8UQ-z-Yjw03V"
      },
      "source": [
        "# Trained model accuracy on valudation data\n",
        "df = pd.read_csv('/content/drive/MyDrive/數位醫學/sample_submission.csv', index_col='Filename')\n",
        "prediction = model.predict(val_data)\n",
        "prediction = np.argmax(prediction, axis=1)\n",
        "df['Obesity'] = prediction\n",
        "# Find words \n",
        "df.loc[val_idx, ['Obesity']] = 1"
      ],
      "execution_count": null,
      "outputs": []
    },
    {
      "cell_type": "code",
      "metadata": {
        "colab": {
          "base_uri": "https://localhost:8080/",
          "height": 1000
        },
        "id": "xgcPdvnQKm00",
        "outputId": "a5715e08-81fa-4a5b-f3e3-de33bb8c27c2"
      },
      "source": [
        "df"
      ],
      "execution_count": null,
      "outputs": [
        {
          "output_type": "execute_result",
          "data": {
            "text/html": [
              "<div>\n",
              "<style scoped>\n",
              "    .dataframe tbody tr th:only-of-type {\n",
              "        vertical-align: middle;\n",
              "    }\n",
              "\n",
              "    .dataframe tbody tr th {\n",
              "        vertical-align: top;\n",
              "    }\n",
              "\n",
              "    .dataframe thead th {\n",
              "        text-align: right;\n",
              "    }\n",
              "</style>\n",
              "<table border=\"1\" class=\"dataframe\">\n",
              "  <thead>\n",
              "    <tr style=\"text-align: right;\">\n",
              "      <th></th>\n",
              "      <th>Obesity</th>\n",
              "    </tr>\n",
              "    <tr>\n",
              "      <th>Filename</th>\n",
              "      <th></th>\n",
              "    </tr>\n",
              "  </thead>\n",
              "  <tbody>\n",
              "    <tr>\n",
              "      <th>ID_1159.txt</th>\n",
              "      <td>1</td>\n",
              "    </tr>\n",
              "    <tr>\n",
              "      <th>ID_1160.txt</th>\n",
              "      <td>1</td>\n",
              "    </tr>\n",
              "    <tr>\n",
              "      <th>ID_1162.txt</th>\n",
              "      <td>1</td>\n",
              "    </tr>\n",
              "    <tr>\n",
              "      <th>ID_1167.txt</th>\n",
              "      <td>1</td>\n",
              "    </tr>\n",
              "    <tr>\n",
              "      <th>ID_1168.txt</th>\n",
              "      <td>1</td>\n",
              "    </tr>\n",
              "    <tr>\n",
              "      <th>ID_1176.txt</th>\n",
              "      <td>1</td>\n",
              "    </tr>\n",
              "    <tr>\n",
              "      <th>ID_1180.txt</th>\n",
              "      <td>0</td>\n",
              "    </tr>\n",
              "    <tr>\n",
              "      <th>ID_1183.txt</th>\n",
              "      <td>0</td>\n",
              "    </tr>\n",
              "    <tr>\n",
              "      <th>ID_1184.txt</th>\n",
              "      <td>1</td>\n",
              "    </tr>\n",
              "    <tr>\n",
              "      <th>ID_1185.txt</th>\n",
              "      <td>1</td>\n",
              "    </tr>\n",
              "    <tr>\n",
              "      <th>ID_1186.txt</th>\n",
              "      <td>0</td>\n",
              "    </tr>\n",
              "    <tr>\n",
              "      <th>ID_1187.txt</th>\n",
              "      <td>1</td>\n",
              "    </tr>\n",
              "    <tr>\n",
              "      <th>ID_1189.txt</th>\n",
              "      <td>1</td>\n",
              "    </tr>\n",
              "    <tr>\n",
              "      <th>ID_1190.txt</th>\n",
              "      <td>1</td>\n",
              "    </tr>\n",
              "    <tr>\n",
              "      <th>ID_1191.txt</th>\n",
              "      <td>1</td>\n",
              "    </tr>\n",
              "    <tr>\n",
              "      <th>ID_1193.txt</th>\n",
              "      <td>1</td>\n",
              "    </tr>\n",
              "    <tr>\n",
              "      <th>ID_1194.txt</th>\n",
              "      <td>1</td>\n",
              "    </tr>\n",
              "    <tr>\n",
              "      <th>ID_1197.txt</th>\n",
              "      <td>1</td>\n",
              "    </tr>\n",
              "    <tr>\n",
              "      <th>ID_1198.txt</th>\n",
              "      <td>1</td>\n",
              "    </tr>\n",
              "    <tr>\n",
              "      <th>ID_1200.txt</th>\n",
              "      <td>0</td>\n",
              "    </tr>\n",
              "    <tr>\n",
              "      <th>ID_1201.txt</th>\n",
              "      <td>1</td>\n",
              "    </tr>\n",
              "    <tr>\n",
              "      <th>ID_1202.txt</th>\n",
              "      <td>1</td>\n",
              "    </tr>\n",
              "    <tr>\n",
              "      <th>ID_1203.txt</th>\n",
              "      <td>1</td>\n",
              "    </tr>\n",
              "    <tr>\n",
              "      <th>ID_1205.txt</th>\n",
              "      <td>1</td>\n",
              "    </tr>\n",
              "    <tr>\n",
              "      <th>ID_1208.txt</th>\n",
              "      <td>1</td>\n",
              "    </tr>\n",
              "    <tr>\n",
              "      <th>ID_1209.txt</th>\n",
              "      <td>1</td>\n",
              "    </tr>\n",
              "    <tr>\n",
              "      <th>ID_1210.txt</th>\n",
              "      <td>0</td>\n",
              "    </tr>\n",
              "    <tr>\n",
              "      <th>ID_1211.txt</th>\n",
              "      <td>1</td>\n",
              "    </tr>\n",
              "    <tr>\n",
              "      <th>ID_1212.txt</th>\n",
              "      <td>1</td>\n",
              "    </tr>\n",
              "    <tr>\n",
              "      <th>ID_1213.txt</th>\n",
              "      <td>1</td>\n",
              "    </tr>\n",
              "    <tr>\n",
              "      <th>ID_1214.txt</th>\n",
              "      <td>1</td>\n",
              "    </tr>\n",
              "    <tr>\n",
              "      <th>ID_1216.txt</th>\n",
              "      <td>1</td>\n",
              "    </tr>\n",
              "    <tr>\n",
              "      <th>ID_1217.txt</th>\n",
              "      <td>1</td>\n",
              "    </tr>\n",
              "    <tr>\n",
              "      <th>ID_1219.txt</th>\n",
              "      <td>1</td>\n",
              "    </tr>\n",
              "    <tr>\n",
              "      <th>ID_1220.txt</th>\n",
              "      <td>1</td>\n",
              "    </tr>\n",
              "    <tr>\n",
              "      <th>ID_1222.txt</th>\n",
              "      <td>1</td>\n",
              "    </tr>\n",
              "    <tr>\n",
              "      <th>ID_1223.txt</th>\n",
              "      <td>1</td>\n",
              "    </tr>\n",
              "    <tr>\n",
              "      <th>ID_1226.txt</th>\n",
              "      <td>1</td>\n",
              "    </tr>\n",
              "    <tr>\n",
              "      <th>ID_1229.txt</th>\n",
              "      <td>1</td>\n",
              "    </tr>\n",
              "    <tr>\n",
              "      <th>ID_1232.txt</th>\n",
              "      <td>1</td>\n",
              "    </tr>\n",
              "    <tr>\n",
              "      <th>ID_1233.txt</th>\n",
              "      <td>0</td>\n",
              "    </tr>\n",
              "    <tr>\n",
              "      <th>ID_1234.txt</th>\n",
              "      <td>1</td>\n",
              "    </tr>\n",
              "    <tr>\n",
              "      <th>ID_1235.txt</th>\n",
              "      <td>0</td>\n",
              "    </tr>\n",
              "    <tr>\n",
              "      <th>ID_1236.txt</th>\n",
              "      <td>1</td>\n",
              "    </tr>\n",
              "    <tr>\n",
              "      <th>ID_1237.txt</th>\n",
              "      <td>1</td>\n",
              "    </tr>\n",
              "    <tr>\n",
              "      <th>ID_1238.txt</th>\n",
              "      <td>0</td>\n",
              "    </tr>\n",
              "    <tr>\n",
              "      <th>ID_1239.txt</th>\n",
              "      <td>1</td>\n",
              "    </tr>\n",
              "    <tr>\n",
              "      <th>ID_1240.txt</th>\n",
              "      <td>1</td>\n",
              "    </tr>\n",
              "    <tr>\n",
              "      <th>ID_1242.txt</th>\n",
              "      <td>1</td>\n",
              "    </tr>\n",
              "    <tr>\n",
              "      <th>ID_1243.txt</th>\n",
              "      <td>1</td>\n",
              "    </tr>\n",
              "  </tbody>\n",
              "</table>\n",
              "</div>"
            ],
            "text/plain": [
              "             Obesity\n",
              "Filename            \n",
              "ID_1159.txt        1\n",
              "ID_1160.txt        1\n",
              "ID_1162.txt        1\n",
              "ID_1167.txt        1\n",
              "ID_1168.txt        1\n",
              "ID_1176.txt        1\n",
              "ID_1180.txt        0\n",
              "ID_1183.txt        0\n",
              "ID_1184.txt        1\n",
              "ID_1185.txt        1\n",
              "ID_1186.txt        0\n",
              "ID_1187.txt        1\n",
              "ID_1189.txt        1\n",
              "ID_1190.txt        1\n",
              "ID_1191.txt        1\n",
              "ID_1193.txt        1\n",
              "ID_1194.txt        1\n",
              "ID_1197.txt        1\n",
              "ID_1198.txt        1\n",
              "ID_1200.txt        0\n",
              "ID_1201.txt        1\n",
              "ID_1202.txt        1\n",
              "ID_1203.txt        1\n",
              "ID_1205.txt        1\n",
              "ID_1208.txt        1\n",
              "ID_1209.txt        1\n",
              "ID_1210.txt        0\n",
              "ID_1211.txt        1\n",
              "ID_1212.txt        1\n",
              "ID_1213.txt        1\n",
              "ID_1214.txt        1\n",
              "ID_1216.txt        1\n",
              "ID_1217.txt        1\n",
              "ID_1219.txt        1\n",
              "ID_1220.txt        1\n",
              "ID_1222.txt        1\n",
              "ID_1223.txt        1\n",
              "ID_1226.txt        1\n",
              "ID_1229.txt        1\n",
              "ID_1232.txt        1\n",
              "ID_1233.txt        0\n",
              "ID_1234.txt        1\n",
              "ID_1235.txt        0\n",
              "ID_1236.txt        1\n",
              "ID_1237.txt        1\n",
              "ID_1238.txt        0\n",
              "ID_1239.txt        1\n",
              "ID_1240.txt        1\n",
              "ID_1242.txt        1\n",
              "ID_1243.txt        1"
            ]
          },
          "metadata": {},
          "execution_count": 14
        }
      ]
    },
    {
      "cell_type": "code",
      "metadata": {
        "id": "Juv6Veh72Foq"
      },
      "source": [
        "# Save csv file\n",
        "df.to_csv('/content/drive/MyDrive/數位醫學/predictions.csv')"
      ],
      "execution_count": null,
      "outputs": []
    },
    {
      "cell_type": "code",
      "metadata": {
        "id": "xBhBD5IZcvL1"
      },
      "source": [
        ""
      ],
      "execution_count": null,
      "outputs": []
    }
  ]
}